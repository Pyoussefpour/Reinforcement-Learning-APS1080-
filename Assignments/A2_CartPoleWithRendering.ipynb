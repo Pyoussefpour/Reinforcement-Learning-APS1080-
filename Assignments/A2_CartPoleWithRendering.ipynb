{
  "cells": [
    {
      "cell_type": "markdown",
      "source": [
        "## **Assignment 2**\n",
        "Parsa Youssefpour\n",
        "\n"
      ],
      "metadata": {
        "id": "qahBZTbqa2h_"
      }
    },
    {
      "cell_type": "code",
      "execution_count": null,
      "metadata": {
        "id": "1XDvssQd64Pf"
      },
      "outputs": [],
      "source": [
        "!apt-get install -y xvfb python-opengl > /dev/null 2>&1"
      ]
    },
    {
      "cell_type": "code",
      "execution_count": null,
      "metadata": {
        "id": "F5esgX013vPe"
      },
      "outputs": [],
      "source": [
        "!pip install gym pyvirtualdisplay > /dev/null 2>&1"
      ]
    },
    {
      "cell_type": "code",
      "execution_count": null,
      "metadata": {
        "id": "UBk6gu6sg7Nd"
      },
      "outputs": [],
      "source": [
        "!pip install pyvirtualdisplay"
      ]
    },
    {
      "cell_type": "code",
      "execution_count": null,
      "metadata": {
        "id": "thS0UPQJg9at"
      },
      "outputs": [],
      "source": [
        "!sudo apt-get install xvfb"
      ]
    },
    {
      "cell_type": "code",
      "execution_count": null,
      "metadata": {
        "id": "Qbi2xaFo31Sj"
      },
      "outputs": [],
      "source": [
        "import gym\n",
        "import numpy as np\n",
        "import matplotlib.pyplot as plt\n",
        "from IPython import display as ipythondisplay"
      ]
    },
    {
      "cell_type": "code",
      "execution_count": null,
      "metadata": {
        "colab": {
          "base_uri": "https://localhost:8080/"
        },
        "id": "FGqXqJxoAsHG",
        "outputId": "dd77e3a3-df11-4fe3-9ca6-63c1aeb1c47e"
      },
      "outputs": [
        {
          "output_type": "stream",
          "name": "stderr",
          "text": [
            "/usr/local/lib/python3.10/dist-packages/ipykernel/ipkernel.py:283: DeprecationWarning: `should_run_async` will not call `transform_cell` automatically in the future. Please pass the result to `transformed_cell` argument and any exception that happen during thetransform in `preprocessing_exc_tuple` in IPython 7.17 and above.\n",
            "  and should_run_async(code)\n"
          ]
        },
        {
          "output_type": "execute_result",
          "data": {
            "text/plain": [
              "<pyvirtualdisplay.display.Display at 0x7dc963394d90>"
            ]
          },
          "metadata": {},
          "execution_count": 7
        }
      ],
      "source": [
        "from pyvirtualdisplay import Display\n",
        "display = Display(visible=0, size=(400, 300))\n",
        "display.start()"
      ]
    },
    {
      "cell_type": "code",
      "execution_count": null,
      "metadata": {
        "colab": {
          "base_uri": "https://localhost:8080/",
          "height": 414
        },
        "id": "6L4YayzR4FYj",
        "outputId": "ddbae002-5af1-44d4-a9fc-fd5dad97c755"
      },
      "outputs": [
        {
          "name": "stdout",
          "output_type": "stream",
          "text": [
            "Iterations that were run: 11\n"
          ]
        },
        {
          "data": {
            "image/png": "[encoded data removed]",
            "text/plain": [
              "<Figure size 640x480 with 1 Axes>"
            ]
          },
          "metadata": {},
          "output_type": "display_data"
        }
      ],
      "source": [
        "env = gym.make(\"CartPole-v0\")\n",
        "env.reset()\n",
        "prev_screen = env.render(mode='rgb_array')\n",
        "plt.imshow(prev_screen)\n",
        "\n",
        "for i in range(50000):\n",
        "  action = env.action_space.sample()\n",
        "  print(\"step i\",i,\"action=\",action)\n",
        "  obs, reward, done, info = env.step(action)\n",
        "  print(\"obs=\",obs,\"reward=\",reward,\"done=\",done,\"info=\",info)\n",
        "  screen = env.render(mode='rgb_array')\n",
        "\n",
        "  plt.imshow(screen)\n",
        "  ipythondisplay.clear_output(wait=True)\n",
        "  ipythondisplay.display(plt.gcf())\n",
        "\n",
        "  if done:\n",
        "    break\n",
        "\n",
        "ipythondisplay.clear_output(wait=True)\n",
        "env.close()\n",
        "print(\"Iterations that were run:\",i)"
      ]
    },
    {
      "cell_type": "markdown",
      "metadata": {
        "id": "iS2XnBpcMsWr"
      },
      "source": [
        "Exercises\n",
        "1. Explain clearly why V_pi is not useful in the MC development above?\n",
        "\n",
        "Answer:\n",
        "V_pi is not useful in the MC development because the MC methods aims to estimate the optimal state action value function (Q). In addition the policy is determined based on the action that has the the highest value in a particular state in the Q function, which is value that V_pi does not provide.\n",
        "\n",
        "---\n",
        "\n",
        "2. The MC algorithm so far (ref: p 99), requires an infinite number of episodes for Eval to converge on Q_pi_k (step k). We can modify this algorithm to the practical variant where Eval is truncated (c.f., DynProg GPI). In this case:\n",
        "\n",
        "      a. Will we obtain Q_pi_k from eval?\n",
        "\n",
        "      Answer:\n",
        "      No, the evaluation process requires an infinite number of episodes, as it needs to cover are possible state action combinations and their combination with other state actions. This process could potentially take multiple years to finish which makes this impossible.\n",
        "\n",
        "      ---\n",
        "\n",
        "      b. If not why are we able to truncate Eval? Explain clearly.\n",
        "\n",
        "      Answer:\n",
        "      with truncate Eval we have a significantly more efficient method to get a very close estimate of Q_pi_k, without having to generate an infinite number of episodes. In this method after every episode generated based on our policy, the polciy is evaluated and improved. Through these itereation we will be able to get a policy and a Q function that is close enough to their optimal values.\n",
        "\n",
        "      ---\n",
        "\n",
        "      c. Assuming ES (i.e., thorough sampling of the S x A space), and the above truncated Eval_trunc, is it possible to converge on a sub-optimal policy pi_c? Is this a stable fixed point of the GPI for MC? Explain clearly.\n",
        "\n",
        "      Answer:\n",
        "      The use of exploratory start guarantees that we will get to the global optimum of all policies. This means that even with the eval_trunc we are able to evaluate and improve the policy as we explore through all possible state action combinations. This allows us to ensure that we reach the optimal policy as all state action pair have been experienced, hence it allows us to reach a stable point of the GPI for MC.\n",
        "\n",
        "      ---\n",
        "\n",
        "\n",
        "3. Explain how you can synthesize a stochastic policy given what you know so far (you don't need to read ahead).\n",
        "\n",
        "Answer:\n",
        "A stochastic policy can be made by first using a policy that has a >0 probability of all actions occuring. Next, the policy values for each state action can be updated with respect to their Q function value. The policy's probability for the action with the highest value is set to\n",
        "\n",
        "1-epsilon + epsilon/#actions\n",
        "\n",
        "and all the other action's probability values are set to\n",
        "\n",
        "epsilon/#actions\n",
        "\n",
        "\n",
        "---"
      ]
    },
    {
      "cell_type": "markdown",
      "metadata": {
        "id": "Vg3IJ9igM68O"
      },
      "source": [
        "Exercise:\n",
        "\n",
        "Code the algorithm for MC Control (Off Policy) and apply this to the Cart Pole problem. You must discretize the environmental feedback (S) in order to solve this problem properly."
      ]
    },
    {
      "cell_type": "code",
      "source": [
        "from google.colab import drive\n",
        "drive.mount('/content/drive')"
      ],
      "metadata": {
        "colab": {
          "base_uri": "https://localhost:8080/"
        },
        "id": "LZjdJZplhWYE",
        "outputId": "3725096d-59ee-44a2-bc3c-d9109f755504"
      },
      "execution_count": null,
      "outputs": [
        {
          "output_type": "stream",
          "name": "stderr",
          "text": [
            "/usr/local/lib/python3.10/dist-packages/ipykernel/ipkernel.py:283: DeprecationWarning: `should_run_async` will not call `transform_cell` automatically in the future. Please pass the result to `transformed_cell` argument and any exception that happen during thetransform in `preprocessing_exc_tuple` in IPython 7.17 and above.\n",
            "  and should_run_async(code)\n",
            "/usr/local/lib/python3.10/dist-packages/pexpect/popen_spawn.py:60: DeprecationWarning: setDaemon() is deprecated, set the daemon attribute instead\n",
            "  self._read_thread.setDaemon(True)\n"
          ]
        },
        {
          "output_type": "stream",
          "name": "stdout",
          "text": [
            "Mounted at /content/drive\n"
          ]
        }
      ]
    },
    {
      "cell_type": "code",
      "execution_count": null,
      "metadata": {
        "id": "b4l1mrqQfK0y"
      },
      "outputs": [],
      "source": [
        "import numpy as np\n",
        "import random\n",
        "import csv"
      ]
    },
    {
      "cell_type": "code",
      "execution_count": null,
      "metadata": {
        "id": "e8x2GEvlOQzl"
      },
      "outputs": [],
      "source": [
        "# initializing Q function, C function, Behaviour policy and Target policy\n",
        "Q={}\n",
        "C={}\n",
        "b ={}\n",
        "policy = {}\n",
        "\n",
        "#turning the multidimensional observation into a tuple to use it as a key for q dict\n",
        "def create_state(observation):\n",
        "  #rounding the 4 values in the observation, to reduce the number of states\n",
        "  formatted_list = [ '%.1f' % elem for elem in observation ]\n",
        "  return tuple(formatted_list)\n",
        "\n",
        "def b_policy(state):\n",
        "  #initiating a new state with random values\n",
        "  #for behaviour policy, Q function, C function\n",
        "  #and the target policy\n",
        "  if state not in Q.keys():\n",
        "    b[state] = [0.5,0.5]\n",
        "    Q[state] = [0,0]\n",
        "    C[state] = [0,0]\n",
        "    policy[state] = [0,0]\n",
        "\n",
        "  return b[state]\n",
        "\n",
        "\n",
        "#updating q\n",
        "def update_q(episode , gamma):\n",
        "\n",
        "  # creating a list of rewards per state action pairs\n",
        "  rewards = [reward for (state, action, reward) in episode]\n",
        "\n",
        "  #initialising G and W\n",
        "  G = 0\n",
        "  W = 1\n",
        "\n",
        "  #looping through the state action pairs in the episode to update the q\n",
        "  for t in range(len(episode)-2,-1,-1):\n",
        "    (state, action, reward) = episode[t]\n",
        "    G = gamma * G + rewards[t+1]\n",
        "\n",
        "    C[state][action] += W\n",
        "    Q[state][action] += (W/C[state][action])*(G-Q[state][action])\n",
        "\n",
        "    # updating target policy\n",
        "    best_action = np.argmax(Q[state])\n",
        "    for i in range(len(Q[state])):\n",
        "      if i == best_action:\n",
        "        policy[state][i] = 1\n",
        "      else:\n",
        "        policy[state][i] = 0\n",
        "\n",
        "    if action != best_action:\n",
        "      return True\n",
        "\n",
        "    W = W*(1/b[state][action])\n",
        "\n",
        "#generating an episode based on the behaviour policy\n",
        "def generate_episode(obs):\n",
        "  episode = []\n",
        "  done = False\n",
        "  while not done:\n",
        "    #creating a state as the dictionary key\n",
        "    state = create_state(obs)\n",
        "    b_probs = b_policy(state)\n",
        "    action = np.random.choice(np.arange(len(b_probs)), p=b_probs)\n",
        "    obs, reward, done, info = env.step(action)\n",
        "    state = create_state(obs)\n",
        "    episode.append((state, action, reward))\n",
        "\n",
        "  return episode\n",
        "\n",
        "\n",
        "def MC(gamma, epoch):\n",
        "\n",
        "  for i in range(epoch):\n",
        "    obs = env.reset()\n",
        "    #generating and episode\n",
        "    episode = generate_episode(obs)\n",
        "    #updating the q values based on the generated episode\n",
        "    update_q(episode, gamma = gamma)\n",
        "\n",
        "    if i % 100_000 == 0:\n",
        "      print(f\"Episode {i}\")\n",
        "\n",
        "      #saving the action value function\n",
        "      with open('/content/drive/MyDrive/Q.csv', 'w', newline='') as file:\n",
        "        writer = csv.writer(file)\n",
        "        writer.writerow([i])\n",
        "        for state, action in Q.items():\n",
        "          writer.writerow([state,action[0],action[1]])\n",
        "\n",
        "  return policy"
      ]
    },
    {
      "cell_type": "code",
      "execution_count": null,
      "metadata": {
        "colab": {
          "base_uri": "https://localhost:8080/"
        },
        "id": "hloiZNA5bPsg",
        "outputId": "48fcd9ab-3c8a-4d0b-d2ee-e8512317bb0f"
      },
      "outputs": [
        {
          "output_type": "stream",
          "name": "stderr",
          "text": [
            "/usr/local/lib/python3.10/dist-packages/gym/envs/registration.py:593: UserWarning: \u001b[33mWARN: The environment CartPole-v0 is out of date. You should consider upgrading to version `v1`.\u001b[0m\n",
            "  logger.warn(\n",
            "/usr/local/lib/python3.10/dist-packages/gym/core.py:317: DeprecationWarning: \u001b[33mWARN: Initializing wrapper in old step API which returns one bool instead of two. It is recommended to set `new_step_api=True` to use new step API. This will be the default behaviour in future.\u001b[0m\n",
            "  deprecation(\n",
            "/usr/local/lib/python3.10/dist-packages/gym/wrappers/step_api_compatibility.py:39: DeprecationWarning: \u001b[33mWARN: Initializing environment in old step API which returns one bool instead of two. It is recommended to set `new_step_api=True` to use new step API. This will be the default behaviour in future.\u001b[0m\n",
            "  deprecation(\n"
          ]
        }
      ],
      "source": [
        "env = gym.make(\"CartPole-v0\",max_episode_steps=10_000)"
      ]
    },
    {
      "cell_type": "code",
      "execution_count": null,
      "metadata": {
        "colab": {
          "base_uri": "https://localhost:8080/"
        },
        "id": "9276RFGags-f",
        "outputId": "7427d048-34bf-47c2-a2f3-bbb20cfbbd42"
      },
      "outputs": [
        {
          "output_type": "stream",
          "name": "stdout",
          "text": [
            "Episode 0\n",
            "Episode 100000\n",
            "Episode 200000\n",
            "Episode 300000\n",
            "Episode 400000\n",
            "Episode 500000\n",
            "Episode 600000\n",
            "Episode 700000\n",
            "Episode 800000\n",
            "Episode 900000\n",
            "Episode 1000000\n",
            "Episode 1100000\n",
            "Episode 1200000\n",
            "Episode 1300000\n",
            "Episode 1400000\n",
            "Episode 1500000\n",
            "Episode 1600000\n",
            "Episode 1700000\n",
            "Episode 1800000\n",
            "Episode 1900000\n",
            "Episode 2000000\n",
            "Episode 2100000\n",
            "Episode 2200000\n",
            "Episode 2300000\n",
            "Episode 2400000\n",
            "Episode 2500000\n",
            "Episode 2600000\n",
            "Episode 2700000\n",
            "Episode 2800000\n",
            "Episode 2900000\n",
            "Episode 3000000\n",
            "Episode 3100000\n",
            "Episode 3200000\n",
            "Episode 3300000\n",
            "Episode 3400000\n",
            "Episode 3500000\n",
            "Episode 3600000\n",
            "Episode 3700000\n",
            "Episode 3800000\n",
            "Episode 3900000\n",
            "Episode 4000000\n",
            "Episode 4100000\n",
            "Episode 4200000\n",
            "Episode 4300000\n",
            "Episode 4400000\n",
            "Episode 4500000\n",
            "Episode 4600000\n",
            "Episode 4700000\n",
            "Episode 4800000\n",
            "Episode 4900000\n",
            "Episode 5000000\n",
            "Episode 5100000\n",
            "Episode 5200000\n",
            "Episode 5300000\n",
            "Episode 5400000\n",
            "Episode 5500000\n",
            "Episode 5600000\n",
            "Episode 5700000\n",
            "Episode 5800000\n",
            "Episode 5900000\n",
            "Episode 6000000\n",
            "Episode 6100000\n",
            "Episode 6200000\n",
            "Episode 6300000\n",
            "Episode 6400000\n",
            "Episode 6500000\n",
            "Episode 6600000\n",
            "Episode 6700000\n",
            "Episode 6800000\n",
            "Episode 6900000\n",
            "Episode 7000000\n",
            "Episode 7100000\n",
            "Episode 7200000\n",
            "Episode 7300000\n",
            "Episode 7400000\n",
            "Episode 7500000\n",
            "Episode 7600000\n",
            "Episode 7700000\n",
            "Episode 7800000\n",
            "Episode 7900000\n",
            "Episode 8000000\n",
            "Episode 8100000\n",
            "Episode 8200000\n",
            "Episode 8300000\n",
            "Episode 8400000\n",
            "Episode 8500000\n",
            "Episode 8600000\n",
            "Episode 8700000\n",
            "Episode 8800000\n",
            "Episode 8900000\n",
            "Episode 9000000\n",
            "Episode 9100000\n",
            "Episode 9200000\n",
            "Episode 9300000\n",
            "Episode 9400000\n",
            "Episode 9500000\n",
            "Episode 9600000\n",
            "Episode 9700000\n",
            "Episode 9800000\n",
            "Episode 9900000\n"
          ]
        }
      ],
      "source": [
        "#calling the monte carlo function\n",
        "q = MC(gamma = 0.99, epoch =10_000_000)"
      ]
    },
    {
      "cell_type": "code",
      "execution_count": null,
      "metadata": {
        "colab": {
          "base_uri": "https://localhost:8080/",
          "height": 282
        },
        "id": "JtQvDef0gr3n",
        "outputId": "33452a0d-7f37-4e54-e23a-5f7cb317707b"
      },
      "outputs": [
        {
          "output_type": "stream",
          "name": "stdout",
          "text": [
            "42 0\n",
            "Iterations that were run: 41\n"
          ]
        },
        {
          "output_type": "display_data",
          "data": {
            "text/plain": [
              "<Figure size 640x480 with 1 Axes>"
            ],
            "image/png": "[encoded data removed]"
          },
          "metadata": {}
        }
      ],
      "source": [
        "#TESTING\n",
        "env = gym.make(\"CartPole-v0\", max_episode_steps=10000)\n",
        "obs = env.reset()\n",
        "prev_screen = env.render(mode='rgb_array')\n",
        "plt.imshow(prev_screen)\n",
        "n_policy =0\n",
        "n_random = 0\n",
        "for i in range(50000):\n",
        "  state = create_state(obs)\n",
        "  print(state)\n",
        "  try:\n",
        "    action = np.argmax(Q[state])\n",
        "    print(action)\n",
        "    print(\"POLICY\")\n",
        "    n_policy+=1\n",
        "\n",
        "  #if somehow the state has not been visited in the training, generate a random move\n",
        "  except:\n",
        "    print(\"random\")\n",
        "    action = env.action_space.sample()\n",
        "    n_random+=1\n",
        "  print(\"step i\",i,\"action=\",action)\n",
        "  obs, reward, done, info = env.step(action)\n",
        "  print(\"obs=\",obs,\"reward=\",reward,\"done=\",done,\"info=\",info)\n",
        "  screen = env.render(mode='rgb_array')\n",
        "\n",
        "  plt.imshow(screen)\n",
        "  ipythondisplay.clear_output(wait=True)\n",
        "  ipythondisplay.display(plt.gcf())\n",
        "\n",
        "  if done:\n",
        "    break\n",
        "\n",
        "ipythondisplay.clear_output(wait=True)\n",
        "env.close()\n",
        "print(n_policy,n_random)\n",
        "print(\"Iterations that were run:\",i)"
      ]
    },
    {
      "cell_type": "markdown",
      "source": [
        "Analysis:\n",
        "Off Policy Monte Carlo is significantly slower and less efficient compared to On policy monte carlo."
      ],
      "metadata": {
        "id": "YfOGH4MsX97z"
      }
    }
  ],
  "metadata": {
    "accelerator": "GPU",
    "colab": {
      "provenance": []
    },
    "kernelspec": {
      "display_name": "Python 3",
      "name": "python3"
    }
  },
  "nbformat": 4,
  "nbformat_minor": 0
}