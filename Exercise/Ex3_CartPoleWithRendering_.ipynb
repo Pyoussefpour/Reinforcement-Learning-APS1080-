{
  "nbformat": 4,
  "nbformat_minor": 0,
  "metadata": {
    "colab": {
      "provenance": []
    },
    "kernelspec": {
      "name": "python3",
      "display_name": "Python 3"
    }
  },
  "cells": [
    {
      "cell_type": "markdown",
      "source": [
        "## **Exercise III**\n",
        "\n",
        "Name: Parsa Youssefpour"
      ],
      "metadata": {
        "id": "XmGfuidenyyC"
      }
    },
    {
      "cell_type": "code",
      "metadata": {
        "id": "1XDvssQd64Pf"
      },
      "source": [
        "!apt-get install -y xvfb python-opengl > /dev/null 2>&1"
      ],
      "execution_count": null,
      "outputs": []
    },
    {
      "cell_type": "code",
      "metadata": {
        "id": "F5esgX013vPe"
      },
      "source": [
        "!pip install gym pyvirtualdisplay > /dev/null 2>&1"
      ],
      "execution_count": null,
      "outputs": []
    },
    {
      "cell_type": "code",
      "source": [
        "!pip install pyvirtualdisplay"
      ],
      "metadata": {
        "id": "wpVrxzUbtowg"
      },
      "execution_count": null,
      "outputs": []
    },
    {
      "cell_type": "code",
      "source": [
        "!sudo apt-get install xvfb"
      ],
      "metadata": {
        "id": "M8sFmpMEtmq0"
      },
      "execution_count": null,
      "outputs": []
    },
    {
      "cell_type": "code",
      "metadata": {
        "id": "Qbi2xaFo31Sj"
      },
      "source": [
        "import gym\n",
        "import numpy as np\n",
        "import matplotlib.pyplot as plt\n",
        "from IPython import display as ipythondisplay"
      ],
      "execution_count": null,
      "outputs": []
    },
    {
      "cell_type": "code",
      "metadata": {
        "id": "FGqXqJxoAsHG",
        "colab": {
          "base_uri": "https://localhost:8080/"
        },
        "outputId": "31422baf-2faa-454d-d2d6-6195d657b037"
      },
      "source": [
        "from pyvirtualdisplay import Display\n",
        "display = Display(visible=0, size=(400, 300))\n",
        "display.start()"
      ],
      "execution_count": null,
      "outputs": [
        {
          "output_type": "stream",
          "name": "stderr",
          "text": [
            "/usr/local/lib/python3.10/dist-packages/ipykernel/ipkernel.py:283: DeprecationWarning: `should_run_async` will not call `transform_cell` automatically in the future. Please pass the result to `transformed_cell` argument and any exception that happen during thetransform in `preprocessing_exc_tuple` in IPython 7.17 and above.\n",
            "  and should_run_async(code)\n"
          ]
        },
        {
          "output_type": "execute_result",
          "data": {
            "text/plain": [
              "<pyvirtualdisplay.display.Display at 0x7ce064df9150>"
            ]
          },
          "metadata": {},
          "execution_count": 6
        }
      ]
    },
    {
      "cell_type": "code",
      "metadata": {
        "id": "6L4YayzR4FYj",
        "colab": {
          "base_uri": "https://localhost:8080/",
          "height": 286
        },
        "outputId": "6e3733d6-266b-4c3a-d216-a4d04fc3aedb"
      },
      "source": [
        "env = gym.make(\"CartPole-v0\")\n",
        "env.reset()\n",
        "prev_screen = env.render(mode='rgb_array')\n",
        "plt.imshow(prev_screen)\n",
        "\n",
        "for i in range(50000):\n",
        "  action = env.action_space.sample()\n",
        "  print(\"step i\",i,\"action=\",action)\n",
        "  obs, reward, done, info = env.step(action)\n",
        "  print(\"obs=\",obs,\"reward=\",reward,\"done=\",done,\"info=\",info)\n",
        "  screen = env.render(mode='rgb_array')\n",
        "\n",
        "  plt.imshow(screen)\n",
        "  ipythondisplay.clear_output(wait=True)\n",
        "  ipythondisplay.display(plt.gcf())\n",
        "\n",
        "  if done:\n",
        "    break\n",
        "\n",
        "ipythondisplay.clear_output(wait=True)\n",
        "env.close()\n",
        "print(\"Iterations that were run:\",i)"
      ],
      "execution_count": null,
      "outputs": [
        {
          "output_type": "stream",
          "text": [
            "Iterations that were run: 14\n"
          ],
          "name": "stdout"
        },
        {
          "output_type": "display_data",
          "data": {
            "image/png": "[encoded data removed]",
            "text/plain": [
              "<Figure size 432x288 with 1 Axes>"
            ]
          },
          "metadata": {
            "tags": [],
            "needs_background": "light"
          }
        }
      ]
    },
    {
      "cell_type": "markdown",
      "source": [
        "### **ON-Policy SARSA**"
      ],
      "metadata": {
        "id": "iXJXlPF0uJNd"
      }
    },
    {
      "cell_type": "code",
      "source": [
        "import random\n",
        "import numpy as np"
      ],
      "metadata": {
        "id": "gmKrPc1XvRZ4"
      },
      "execution_count": null,
      "outputs": []
    },
    {
      "cell_type": "code",
      "source": [
        "Q={}\n",
        "\n",
        "#create a state to be used as dict key\n",
        "def create_state(obs):\n",
        "  #reducing the number of state by rounding the number of states\n",
        "  state = [ '%.1f' % elem for elem in obs]\n",
        "  return tuple(state)\n",
        "\n",
        "# e-greedy policy\n",
        "def SARSA_Policy(state,epsilon):\n",
        "  if state not in Q.keys():\n",
        "    Q[state] = [0,0]\n",
        "\n",
        "  if random.random() > epsilon:\n",
        "    return np.argmax(Q[state])\n",
        "  else:\n",
        "    return env.action_space.sample()\n",
        "\n",
        "#SARSA Algorithm\n",
        "def SARSA(alpha, gamma, epoch, epsilon):\n",
        "    for i in range(1,epoch+1):\n",
        "      obs = env.reset()\n",
        "      done = False\n",
        "      state = create_state(obs)\n",
        "      action = SARSA_Policy(state, epsilon = epsilon)\n",
        "      while not done:\n",
        "        obs, reward, done, info = env.step(action)\n",
        "        next_state = create_state(obs)\n",
        "        next_action = SARSA_Policy(next_state, epsilon = epsilon)\n",
        "\n",
        "        Q[state][action] += alpha*(reward + gamma*Q[next_state][next_action] - Q[state][action])\n",
        "\n",
        "        state = next_state\n",
        "        action = next_action\n",
        "\n",
        "      if i % 100_000 == 0:\n",
        "        print(f\"Episode {i}\")\n",
        "\n",
        "    return Q"
      ],
      "metadata": {
        "id": "Ar8vdZhCtq19"
      },
      "execution_count": null,
      "outputs": []
    },
    {
      "cell_type": "code",
      "source": [
        "env = gym.make(\"CartPole-v0\",max_episode_steps=10_000)"
      ],
      "metadata": {
        "colab": {
          "base_uri": "https://localhost:8080/"
        },
        "id": "htKdHmuPzJEF",
        "outputId": "8d868437-19d1-4097-cb45-ccb3858867c3"
      },
      "execution_count": null,
      "outputs": [
        {
          "output_type": "stream",
          "name": "stderr",
          "text": [
            "/usr/local/lib/python3.10/dist-packages/gym/envs/registration.py:593: UserWarning: \u001b[33mWARN: The environment CartPole-v0 is out of date. You should consider upgrading to version `v1`.\u001b[0m\n",
            "  logger.warn(\n",
            "/usr/local/lib/python3.10/dist-packages/gym/core.py:317: DeprecationWarning: \u001b[33mWARN: Initializing wrapper in old step API which returns one bool instead of two. It is recommended to set `new_step_api=True` to use new step API. This will be the default behaviour in future.\u001b[0m\n",
            "  deprecation(\n",
            "/usr/local/lib/python3.10/dist-packages/gym/wrappers/step_api_compatibility.py:39: DeprecationWarning: \u001b[33mWARN: Initializing environment in old step API which returns one bool instead of two. It is recommended to set `new_step_api=True` to use new step API. This will be the default behaviour in future.\u001b[0m\n",
            "  deprecation(\n"
          ]
        }
      ]
    },
    {
      "cell_type": "code",
      "source": [
        "Q = SARSA(0.15,0.99,200_000,0.2)"
      ],
      "metadata": {
        "colab": {
          "base_uri": "https://localhost:8080/"
        },
        "id": "RH55Gs9zzL4t",
        "outputId": "263ae5ff-0546-41a7-d630-102afbaf2451"
      },
      "execution_count": null,
      "outputs": [
        {
          "output_type": "stream",
          "name": "stdout",
          "text": [
            "Episode 0\n",
            "Episode 100000\n"
          ]
        }
      ]
    },
    {
      "cell_type": "code",
      "source": [
        "#TESTING\n",
        "env = gym.make(\"CartPole-v0\", max_episode_steps=10000)\n",
        "obs = env.reset()\n",
        "prev_screen = env.render(mode='rgb_array')\n",
        "plt.imshow(prev_screen)\n",
        "n_policy =0\n",
        "n_random = 0\n",
        "for i in range(50000):\n",
        "  state = create_state(obs)\n",
        "  print(state)\n",
        "  try:\n",
        "    action = np.argmax(Q[state])\n",
        "    print(action)\n",
        "    print(\"POLICY\")\n",
        "    n_policy+=1\n",
        "\n",
        "  #if somehow the state has not been visited in the training, generate a random move\n",
        "  except:\n",
        "    print(\"random\")\n",
        "    action = env.action_space.sample()\n",
        "    n_random+=1\n",
        "  print(\"step i\",i,\"action=\",action)\n",
        "  obs, reward, done, info = env.step(action)\n",
        "  print(\"obs=\",obs,\"reward=\",reward,\"done=\",done,\"info=\",info)\n",
        "  screen = env.render(mode='rgb_array')\n",
        "\n",
        "  plt.imshow(screen)\n",
        "  ipythondisplay.clear_output(wait=True)\n",
        "  ipythondisplay.display(plt.gcf())\n",
        "\n",
        "  if done:\n",
        "    break\n",
        "\n",
        "ipythondisplay.clear_output(wait=True)\n",
        "env.close()\n",
        "print(n_policy,n_random)\n",
        "print(\"Iterations that were run:\",i)"
      ],
      "metadata": {
        "colab": {
          "base_uri": "https://localhost:8080/",
          "height": 431
        },
        "id": "5ZSCEr1Ez3I-",
        "outputId": "7f0980af-f710-4697-953b-e7b3dd6842f8"
      },
      "execution_count": null,
      "outputs": [
        {
          "output_type": "stream",
          "name": "stdout",
          "text": [
            "425 0\n",
            "Iterations that were run: 424\n"
          ]
        },
        {
          "output_type": "display_data",
          "data": {
            "text/plain": [
              "<Figure size 640x480 with 1 Axes>"
            ],
            "image/png": "[encoded data removed]"
          },
          "metadata": {}
        }
      ]
    },
    {
      "cell_type": "markdown",
      "source": [
        "### **Q Learning**"
      ],
      "metadata": {
        "id": "hfOGWL-8PFrf"
      }
    },
    {
      "cell_type": "code",
      "source": [
        "import matplotlib.pyplot as plt\n",
        "import csv"
      ],
      "metadata": {
        "id": "r_DyonY7j9ZA"
      },
      "execution_count": null,
      "outputs": []
    },
    {
      "cell_type": "code",
      "source": [
        "from google.colab import drive\n",
        "drive.mount('/content/drive')"
      ],
      "metadata": {
        "colab": {
          "base_uri": "https://localhost:8080/"
        },
        "id": "7mfmlENVrZIW",
        "outputId": "e04829a1-5a6d-4bcc-9059-7e576ebd1d37"
      },
      "execution_count": null,
      "outputs": [
        {
          "output_type": "stream",
          "name": "stderr",
          "text": [
            "/usr/local/lib/python3.10/dist-packages/pexpect/popen_spawn.py:60: DeprecationWarning: setDaemon() is deprecated, set the daemon attribute instead\n",
            "  self._read_thread.setDaemon(True)\n"
          ]
        },
        {
          "output_type": "stream",
          "name": "stdout",
          "text": [
            "Mounted at /content/drive\n"
          ]
        }
      ]
    },
    {
      "cell_type": "code",
      "source": [
        "Q_q={}\n",
        "rewards=[]\n",
        "\n",
        "#e-greedy policy\n",
        "def Q_policy(state, epsilon):\n",
        "  if state not in Q_q.keys():\n",
        "    Q_q[state] = [0,0]\n",
        "\n",
        "  if random.random() > epsilon:\n",
        "    return np.argmax(Q_q[state])\n",
        "  else:\n",
        "    return env.action_space.sample()\n",
        "\n",
        "#Q-learning Algorithm\n",
        "def Q_learning(alpha, gamma, epoch, epsilon):\n",
        "  for i in range(1,epoch+1):\n",
        "      obs = env.reset()\n",
        "      done = False\n",
        "      state = create_state(obs)\n",
        "      sum_rewards = 0\n",
        "      while not done:\n",
        "        action = Q_policy(state, epsilon)\n",
        "        obs, reward, done, info = env.step(action)\n",
        "        next_state = create_state(obs)\n",
        "        next_action = Q_policy(next_state, epsilon = epsilon)\n",
        "        #keep track of the rewards collected in each episode\n",
        "        sum_rewards += reward\n",
        "        Q_q[state][action] += alpha*(reward + gamma*max(Q_q[next_state])- Q_q[state][action])\n",
        "\n",
        "        state = next_state\n",
        "\n",
        "      rewards.append(sum_rewards)\n",
        "\n",
        "\n",
        "      if i % 100_000 == 0:\n",
        "        print(f\"Episode {i}\")\n",
        "\n",
        "        #save the Q values every 100_000 iterations\n",
        "        with open('/content/drive/MyDrive/Q_q.csv', 'w', newline='') as file:\n",
        "          writer = csv.writer(file)\n",
        "          writer.writerow([i])\n",
        "          for state, action in Q_q.items():\n",
        "            writer.writerow([state,action[0],action[1]])\n",
        "\n",
        "  return Q_q, rewards"
      ],
      "metadata": {
        "colab": {
          "base_uri": "https://localhost:8080/"
        },
        "id": "TeWn-JU9PFQI",
        "outputId": "17396d0c-b65b-4d6a-e8fa-d7391e64e838"
      },
      "execution_count": null,
      "outputs": [
        {
          "output_type": "stream",
          "name": "stderr",
          "text": [
            "/usr/local/lib/python3.10/dist-packages/ipykernel/ipkernel.py:283: DeprecationWarning: `should_run_async` will not call `transform_cell` automatically in the future. Please pass the result to `transformed_cell` argument and any exception that happen during thetransform in `preprocessing_exc_tuple` in IPython 7.17 and above.\n",
            "  and should_run_async(code)\n"
          ]
        }
      ]
    },
    {
      "cell_type": "code",
      "source": [
        "Q_q, rewards = Q_learning(0.25,0.99,200_000,0.2)\n",
        "\n",
        "#graphing the rewards collected in each episode\n",
        "x = range(len(rewards))\n",
        "slope, intercept = np.polyfit(x, rewards, 1)\n",
        "plt.plot(rewards)\n",
        "plt.plot(x, slope * np.array(x) + intercept)"
      ],
      "metadata": {
        "colab": {
          "base_uri": "https://localhost:8080/",
          "height": 537
        },
        "id": "4vtsVXhyUPaD",
        "outputId": "c6665f12-1dd1-4628-df03-a5d009c11b7c"
      },
      "execution_count": null,
      "outputs": [
        {
          "output_type": "stream",
          "name": "stderr",
          "text": [
            "/usr/local/lib/python3.10/dist-packages/ipykernel/ipkernel.py:283: DeprecationWarning: `should_run_async` will not call `transform_cell` automatically in the future. Please pass the result to `transformed_cell` argument and any exception that happen during thetransform in `preprocessing_exc_tuple` in IPython 7.17 and above.\n",
            "  and should_run_async(code)\n"
          ]
        },
        {
          "output_type": "stream",
          "name": "stdout",
          "text": [
            "Episode 100000\n",
            "Episode 200000\n"
          ]
        },
        {
          "output_type": "execute_result",
          "data": {
            "text/plain": [
              "[<matplotlib.lines.Line2D at 0x79a9a35742e0>]"
            ]
          },
          "metadata": {},
          "execution_count": 23
        },
        {
          "output_type": "display_data",
          "data": {
            "text/plain": [
              "<Figure size 640x480 with 1 Axes>"
            ],
            "image/png": "[encoded data removed]"
          },
          "metadata": {}
        }
      ]
    },
    {
      "cell_type": "code",
      "source": [
        "#TESTING\n",
        "env = gym.make(\"CartPole-v0\", max_episode_steps=500)\n",
        "obs = env.reset()\n",
        "prev_screen = env.render(mode='rgb_array')\n",
        "plt.imshow(prev_screen)\n",
        "n_policy =0\n",
        "n_random = 0\n",
        "for i in range(50000):\n",
        "  state = create_state(obs)\n",
        "  print(state)\n",
        "  try:\n",
        "    action = np.argmax(Q_q[state])\n",
        "    print(action)\n",
        "    print(\"POLICY\")\n",
        "    n_policy+=1\n",
        "\n",
        "  #if somehow the state has not been visited in the training, generate a random move\n",
        "  except:\n",
        "    print(\"random\")\n",
        "    action = env.action_space.sample()\n",
        "    n_random+=1\n",
        "  print(\"step i\",i,\"action=\",action)\n",
        "  obs, reward, done, info = env.step(action)\n",
        "  print(\"obs=\",obs,\"reward=\",reward,\"done=\",done,\"info=\",info)\n",
        "  screen = env.render(mode='rgb_array')\n",
        "\n",
        "  plt.imshow(screen)\n",
        "  ipythondisplay.clear_output(wait=True)\n",
        "  ipythondisplay.display(plt.gcf())\n",
        "\n",
        "  if done:\n",
        "    break\n",
        "\n",
        "ipythondisplay.clear_output(wait=True)\n",
        "env.close()\n",
        "print(n_policy,n_random)\n",
        "print(\"Iterations that were run:\",i)"
      ],
      "metadata": {
        "colab": {
          "base_uri": "https://localhost:8080/",
          "height": 431
        },
        "id": "Kic6OhCliAb5",
        "outputId": "fad88bb4-a353-4106-e88e-c3be36d98319"
      },
      "execution_count": null,
      "outputs": [
        {
          "output_type": "stream",
          "name": "stdout",
          "text": [
            "500 0\n",
            "Iterations that were run: 499\n"
          ]
        },
        {
          "output_type": "display_data",
          "data": {
            "text/plain": [
              "<Figure size 640x480 with 1 Axes>"
            ],
            "image/png": "[encoded data removed]"
          },
          "metadata": {}
        }
      ]
    },
    {
      "cell_type": "markdown",
      "source": [
        "### **OFF POLICY EXPECTED SARSA**"
      ],
      "metadata": {
        "id": "_kt1dZPNuEo0"
      }
    },
    {
      "cell_type": "code",
      "source": [
        "\n",
        "b={}\n",
        "Q_ESarsa = {}\n",
        "policy={}\n",
        "\n",
        "#behavior policy and initializing the values for each visited state in the Q,\n",
        "#policy and behavior policy dict\n",
        "def behavior_policy(state):\n",
        "  if state not in Q_ESarsa.keys():\n",
        "    b[state] = [0.5,0.5]\n",
        "    Q_ESarsa[state] = [0 , 0]\n",
        "    policy[state] = [0.5,0.5]\n",
        "  return b[state]\n",
        "\n",
        "#Ecpected SARSA Algorithm\n",
        "def Expected_Sarsa_Learning(alpha, gamma, epoch):\n",
        "  for i in range(1,epoch+1):\n",
        "      obs = env.reset()                                                         # initialize S\n",
        "      done = False\n",
        "      state = create_state(obs)\n",
        "      b_probs = behavior_policy(state)\n",
        "      action = np.random.choice(range(len(b_probs)), p=b_probs)                 # choose A from S\n",
        "      while not done:\n",
        "        obs, reward, done, info = env.step(action)                              # observe R, S'\n",
        "        next_state = create_state(obs)\n",
        "        b_probs = behavior_policy(next_state)\n",
        "        next_action = np.random.choice(range(len(b_probs)), p=b_probs)          # choose A'\n",
        "\n",
        "        Q_target=0\n",
        "        for a in range(len(Q_ESarsa[next_state])):\n",
        "          Q_target += policy[next_state][a]*Q_ESarsa[next_state][a]             # Get Q_target, weighted sum of Q values wrt. target policy\n",
        "\n",
        "        Q_ESarsa[state][action] += alpha*(reward + gamma*Q_target - Q_ESarsa[state][action])    #update Q\n",
        "\n",
        "        # update policy w.r.t. Q function\n",
        "        best_action = np.argmax(Q_ESarsa[state])\n",
        "        for j in range(len(Q_ESarsa[state])):\n",
        "          if j == best_action:\n",
        "            policy[state][j] = 1\n",
        "          else:\n",
        "            policy[state][j] = 0\n",
        "\n",
        "        #update action and state\n",
        "        state = next_state\n",
        "        action = next_action\n",
        "\n",
        "      if i % 100_000 == 0:\n",
        "        print(f\"Episode {i}\")\n",
        "\n",
        "        # saving Q every 100_000 iteration\n",
        "        with open('/content/drive/MyDrive/Q_ES.csv', 'w', newline='') as file:\n",
        "          writer = csv.writer(file)\n",
        "          writer.writerow([i])\n",
        "          for state, action in Q_ESarsa.items():\n",
        "            writer.writerow([state,action[0],action[1]])\n",
        "\n",
        "  return Q_ESarsa\n"
      ],
      "metadata": {
        "id": "sFvq7NkzuKVN"
      },
      "execution_count": null,
      "outputs": []
    },
    {
      "cell_type": "code",
      "source": [
        "env = gym.make(\"CartPole-v0\",max_episode_steps=10_000)"
      ],
      "metadata": {
        "id": "N3_yxPqpyVHa"
      },
      "execution_count": null,
      "outputs": []
    },
    {
      "cell_type": "code",
      "source": [
        "Q_ESarsa = Expected_Sarsa_Learning(0.5,0.99,500_000)\n"
      ],
      "metadata": {
        "colab": {
          "base_uri": "https://localhost:8080/"
        },
        "id": "icCVicD3wwcg",
        "outputId": "6c990ba6-b490-40a5-ec02-1e1bda797ffb"
      },
      "execution_count": null,
      "outputs": [
        {
          "metadata": {
            "tags": null
          },
          "name": "stderr",
          "output_type": "stream",
          "text": [
            "/usr/local/lib/python3.10/dist-packages/ipykernel/ipkernel.py:283: DeprecationWarning: `should_run_async` will not call `transform_cell` automatically in the future. Please pass the result to `transformed_cell` argument and any exception that happen during thetransform in `preprocessing_exc_tuple` in IPython 7.17 and above.\n",
            "  and should_run_async(code)\n"
          ]
        },
        {
          "output_type": "stream",
          "name": "stdout",
          "text": [
            "Episode 100000\n",
            "Episode 200000\n",
            "Episode 300000\n",
            "Episode 400000\n",
            "Episode 500000\n"
          ]
        }
      ]
    },
    {
      "cell_type": "code",
      "source": [
        "#TESTING\n",
        "env = gym.make(\"CartPole-v0\", max_episode_steps=500)\n",
        "obs = env.reset()\n",
        "prev_screen = env.render(mode='rgb_array')\n",
        "plt.imshow(prev_screen)\n",
        "n_policy =0\n",
        "n_random = 0\n",
        "for i in range(50000):\n",
        "  state = create_state(obs)\n",
        "  print(state)\n",
        "  try:\n",
        "    action = np.argmax(Q_ESarsa[state])\n",
        "    print(action)\n",
        "    print(\"POLICY\")\n",
        "    n_policy+=1\n",
        "\n",
        "  #if somehow the state has not been visited in the training, generate a random move\n",
        "  except:\n",
        "    print(\"random\")\n",
        "    action = env.action_space.sample()\n",
        "    n_random+=1\n",
        "  print(\"step i\",i,\"action=\",action)\n",
        "  obs, reward, done, info = env.step(action)\n",
        "  print(\"obs=\",obs,\"reward=\",reward,\"done=\",done,\"info=\",info)\n",
        "  screen = env.render(mode='rgb_array')\n",
        "\n",
        "  plt.imshow(screen)\n",
        "  ipythondisplay.clear_output(wait=True)\n",
        "  ipythondisplay.display(plt.gcf())\n",
        "\n",
        "  if done:\n",
        "    break\n",
        "\n",
        "ipythondisplay.clear_output(wait=True)\n",
        "env.close()\n",
        "print(n_policy,n_random)\n",
        "print(\"Iterations that were run:\",i)"
      ],
      "metadata": {
        "colab": {
          "base_uri": "https://localhost:8080/",
          "height": 431
        },
        "id": "laNrvOk-yO0g",
        "outputId": "a3216254-1fce-4a4f-ae50-49a24c7d6905"
      },
      "execution_count": null,
      "outputs": [
        {
          "output_type": "stream",
          "name": "stdout",
          "text": [
            "500 0\n",
            "Iterations that were run: 499\n"
          ]
        },
        {
          "output_type": "display_data",
          "data": {
            "text/plain": [
              "<Figure size 640x480 with 1 Axes>"
            ],
            "image/png": "[encoded data removed]"
          },
          "metadata": {}
        }
      ]
    }
  ]
}